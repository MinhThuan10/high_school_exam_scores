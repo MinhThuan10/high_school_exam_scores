{
 "cells": [
  {
   "cell_type": "code",
   "execution_count": 87,
   "metadata": {},
   "outputs": [],
   "source": [
    "from pyspark.sql import SparkSession"
   ]
  },
  {
   "cell_type": "code",
   "execution_count": 88,
   "metadata": {},
   "outputs": [],
   "source": [
    "spark = SparkSession \\\n",
    "    .builder \\\n",
    "    .appName(\"import_csv_to_mongoDB\") \\\n",
    "    .master('local')\\\n",
    "    .config(\"spark.mongodb.input.uri\", \"mongodb://localhost:27017/GoldenOwnAsia.test_score\") \\\n",
    "    .config(\"spark.mongodb.output.uri\", \"mongodb://localhost:27017/GoldenOwnAsia.test_score\") \\\n",
    "    .config('spark.jars.packages', 'org.mongodb.spark:mongo-spark-connector_2.12:3.0.1') \\\n",
    "    .getOrCreate()\n"
   ]
  },
  {
   "cell_type": "code",
   "execution_count": 89,
   "metadata": {},
   "outputs": [],
   "source": [
    "df = spark.read.csv(\"diem_thi_thpt_2024.csv\", header=True, inferSchema=True)\n"
   ]
  },
  {
   "cell_type": "code",
   "execution_count": 90,
   "metadata": {},
   "outputs": [
    {
     "name": "stdout",
     "output_type": "stream",
     "text": [
      "root\n",
      " |-- sbd: integer (nullable = true)\n",
      " |-- toan: double (nullable = true)\n",
      " |-- ngu_van: double (nullable = true)\n",
      " |-- ngoai_ngu: double (nullable = true)\n",
      " |-- vat_li: double (nullable = true)\n",
      " |-- hoa_hoc: double (nullable = true)\n",
      " |-- sinh_hoc: double (nullable = true)\n",
      " |-- lich_su: double (nullable = true)\n",
      " |-- dia_li: double (nullable = true)\n",
      " |-- gdcd: double (nullable = true)\n",
      " |-- ma_ngoai_ngu: string (nullable = true)\n",
      "\n",
      "+-------+----+-------+---------+------+-------+--------+-------+------+----+------------+\n",
      "|    sbd|toan|ngu_van|ngoai_ngu|vat_li|hoa_hoc|sinh_hoc|lich_su|dia_li|gdcd|ma_ngoai_ngu|\n",
      "+-------+----+-------+---------+------+-------+--------+-------+------+----+------------+\n",
      "|1000001| 8.4|   6.75|      8.0|   6.0|   5.25|     5.0|   NULL|  NULL|NULL|          N1|\n",
      "|1000002| 8.6|    8.5|      7.2|  NULL|   NULL|    NULL|   7.25|   6.0| 8.0|          N1|\n",
      "|1000003| 8.2|   8.75|      8.2|  NULL|   NULL|    NULL|   7.25|  7.25|8.75|          N1|\n",
      "|1000004| 4.8|    8.5|      7.4|  NULL|   NULL|    NULL|    7.0|   6.0| 7.5|          N1|\n",
      "|1000005| 8.6|    9.0|      7.8|  NULL|   NULL|    NULL|    9.0|  8.75| 8.5|          N1|\n",
      "+-------+----+-------+---------+------+-------+--------+-------+------+----+------------+\n",
      "only showing top 5 rows\n",
      "\n"
     ]
    }
   ],
   "source": [
    "df.printSchema()\n",
    "df.show(5)"
   ]
  },
  {
   "cell_type": "code",
   "execution_count": 91,
   "metadata": {},
   "outputs": [],
   "source": [
    "df.select(\"sbd\", \"toan\", \"ngu_van\", \"ngoai_ngu\", \"vat_li\", \"hoa_hoc\", \"sinh_hoc\", \"lich_su\", \"dia_li\", \"gdcd\", \"ma_ngoai_ngu\").write\\\n",
    "    .format('com.mongodb.spark.sql.DefaultSource')\\\n",
    "    .option(\"uri\", \"mongodb://localhost:27017/GoldenOwnAsia.test_score\").mode(\"overwrite\").save()"
   ]
  }
 ],
 "metadata": {
  "kernelspec": {
   "display_name": "venv",
   "language": "python",
   "name": "python3"
  },
  "language_info": {
   "codemirror_mode": {
    "name": "ipython",
    "version": 3
   },
   "file_extension": ".py",
   "mimetype": "text/x-python",
   "name": "python",
   "nbconvert_exporter": "python",
   "pygments_lexer": "ipython3",
   "version": "3.12.5"
  }
 },
 "nbformat": 4,
 "nbformat_minor": 2
}
